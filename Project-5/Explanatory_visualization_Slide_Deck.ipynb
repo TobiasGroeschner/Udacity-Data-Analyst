{
 "cells": [
  {
   "cell_type": "markdown",
   "metadata": {
    "slideshow": {
     "slide_type": "slide"
    }
   },
   "source": [
    "# Lets create some nice visualisations!"
   ]
  },
  {
   "cell_type": "markdown",
   "metadata": {
    "slideshow": {
     "slide_type": "slide"
    }
   },
   "source": [
    "## Investigation Overview\n",
    "\n",
    "In this investigation, we wanted to build some meaningfuil visualisations! Columns in scope were:\n",
    "\n",
    "\n",
    "\n",
    "## Dataset Overview\n",
    "\n",
    "This ProsperLoan data set contains 113937 rows and 81 columns, each row being one loan. Columns in scope are:\n",
    "\n",
    "        - 'LoanStatus': shows *current* or *completed*\n",
    "        - 'EstimatedEffectiveYield': effective yield is a financial metric that measures the interest rate\n",
    "        - 'BorrowerAPR': annual percentage range\n",
    "        - 'BorrowerRate': the interest rate at which money may be borrowed\n",
    "        - 'ProsperScore': prosper score estimates the probability of a loan going “bad,” where “bad” is the probability of going 60+ days past due within the first twelve months from the date of loan origination. One is the worst, 11 the best score.               \n",
    "        - 'EmploymentStatus': describes status of employment (e.g. full-time, part-time) \n",
    "        - 'Occupation': occuption of the person\n",
    "        - 'IsBorrowerHomeowner': homeowner True or False\n",
    "        - 'IncomeVerifiable': income verifieable True or False\n",
    "        - 'StatedMonthlyIncome': stated income\n",
    "        - 'MonthlyLoanPayment': monthly loan payment\n",
    "        - 'Recommendations', \n",
    "        - 'DebtToIncomeRatio': Debt divided by income\n",
    "        - 'LoanOriginalAmount' Original amount of the loan\n",
    "        - 'PercentFunded': percentage of loan funded\n",
    "        - 'IncomeRange': Income range of people\n",
    "        - 'BorrowerState: state where the borrower ist from\n"
   ]
  },
  {
   "cell_type": "markdown",
   "metadata": {
    "slideshow": {
     "slide_type": "skip"
    }
   },
   "source": [
    "# Preliminary Wrangling"
   ]
  },
  {
   "cell_type": "markdown",
   "metadata": {
    "slideshow": {
     "slide_type": "skip"
    }
   },
   "source": [
    "What is the structure of this dataset?\n",
    "\n",
    "shape: 113937 rows, 17 columns\n",
    "\n",
    "Numerical columns are: \n",
    "\n",
    "- BorrowerAPR\n",
    "- BorrowerRate\n",
    "- EstimatedEffectiveYield\n",
    "- ProsperScore\n",
    "- DebtToIncomeRatio\n",
    "- StatedMonthlyIncome\n",
    "- LoanOriginalAmount\n",
    "- MonthlyLoanPayment\n",
    "- PercentFunded\n",
    "\n",
    "categorical columns are:\n",
    "\n",
    "- LoanStatus\n",
    "- BorrowerState\t\n",
    "- Occupation\t\n",
    "- EmploymentStatus\t\n"
   ]
  },
  {
   "cell_type": "markdown",
   "metadata": {
    "slideshow": {
     "slide_type": "skip"
    }
   },
   "source": [
    "### Load packages"
   ]
  },
  {
   "cell_type": "code",
   "execution_count": 3,
   "metadata": {
    "slideshow": {
     "slide_type": "skip"
    }
   },
   "outputs": [],
   "source": [
    "# prerequisite package imports\n",
    "import numpy as np\n",
    "import pandas as pd\n",
    "import matplotlib.pyplot as plt\n",
    "import seaborn as sb\n",
    "from matplotlib.pyplot import xticks\n",
    "\n",
    "%matplotlib inline"
   ]
  },
  {
   "cell_type": "markdown",
   "metadata": {
    "slideshow": {
     "slide_type": "skip"
    }
   },
   "source": [
    "### Read the data"
   ]
  },
  {
   "cell_type": "code",
   "execution_count": 4,
   "metadata": {
    "slideshow": {
     "slide_type": "skip"
    }
   },
   "outputs": [
    {
     "data": {
      "text/html": [
       "<div>\n",
       "<style scoped>\n",
       "    .dataframe tbody tr th:only-of-type {\n",
       "        vertical-align: middle;\n",
       "    }\n",
       "\n",
       "    .dataframe tbody tr th {\n",
       "        vertical-align: top;\n",
       "    }\n",
       "\n",
       "    .dataframe thead th {\n",
       "        text-align: right;\n",
       "    }\n",
       "</style>\n",
       "<table border=\"1\" class=\"dataframe\">\n",
       "  <thead>\n",
       "    <tr style=\"text-align: right;\">\n",
       "      <th></th>\n",
       "      <th>Term</th>\n",
       "      <th>LoanStatus</th>\n",
       "      <th>BorrowerAPR</th>\n",
       "      <th>BorrowerRate</th>\n",
       "      <th>EstimatedEffectiveYield</th>\n",
       "      <th>ProsperScore</th>\n",
       "      <th>BorrowerState</th>\n",
       "      <th>Occupation</th>\n",
       "      <th>EmploymentStatus</th>\n",
       "      <th>IsBorrowerHomeowner</th>\n",
       "      <th>DebtToIncomeRatio</th>\n",
       "      <th>IncomeRange</th>\n",
       "      <th>IncomeVerifiable</th>\n",
       "      <th>StatedMonthlyIncome</th>\n",
       "      <th>LoanOriginalAmount</th>\n",
       "      <th>MonthlyLoanPayment</th>\n",
       "      <th>PercentFunded</th>\n",
       "    </tr>\n",
       "  </thead>\n",
       "  <tbody>\n",
       "    <tr>\n",
       "      <th>0</th>\n",
       "      <td>36</td>\n",
       "      <td>Completed</td>\n",
       "      <td>0.16516</td>\n",
       "      <td>0.158</td>\n",
       "      <td>NaN</td>\n",
       "      <td>NaN</td>\n",
       "      <td>CO</td>\n",
       "      <td>Other</td>\n",
       "      <td>Self-employed</td>\n",
       "      <td>True</td>\n",
       "      <td>0.17</td>\n",
       "      <td>$25,000-49,999</td>\n",
       "      <td>True</td>\n",
       "      <td>3083.333333</td>\n",
       "      <td>9425</td>\n",
       "      <td>330.43</td>\n",
       "      <td>1.0</td>\n",
       "    </tr>\n",
       "    <tr>\n",
       "      <th>1</th>\n",
       "      <td>36</td>\n",
       "      <td>Current</td>\n",
       "      <td>0.12016</td>\n",
       "      <td>0.092</td>\n",
       "      <td>0.0796</td>\n",
       "      <td>7.0</td>\n",
       "      <td>CO</td>\n",
       "      <td>Professional</td>\n",
       "      <td>Employed</td>\n",
       "      <td>False</td>\n",
       "      <td>0.18</td>\n",
       "      <td>$50,000-74,999</td>\n",
       "      <td>True</td>\n",
       "      <td>6125.000000</td>\n",
       "      <td>10000</td>\n",
       "      <td>318.93</td>\n",
       "      <td>1.0</td>\n",
       "    </tr>\n",
       "    <tr>\n",
       "      <th>2</th>\n",
       "      <td>36</td>\n",
       "      <td>Completed</td>\n",
       "      <td>0.28269</td>\n",
       "      <td>0.275</td>\n",
       "      <td>NaN</td>\n",
       "      <td>NaN</td>\n",
       "      <td>GA</td>\n",
       "      <td>Other</td>\n",
       "      <td>Not available</td>\n",
       "      <td>False</td>\n",
       "      <td>0.06</td>\n",
       "      <td>Not displayed</td>\n",
       "      <td>True</td>\n",
       "      <td>2083.333333</td>\n",
       "      <td>3001</td>\n",
       "      <td>123.32</td>\n",
       "      <td>1.0</td>\n",
       "    </tr>\n",
       "  </tbody>\n",
       "</table>\n",
       "</div>"
      ],
      "text/plain": [
       "   Term LoanStatus  BorrowerAPR  BorrowerRate  EstimatedEffectiveYield  \\\n",
       "0    36  Completed      0.16516         0.158                      NaN   \n",
       "1    36    Current      0.12016         0.092                   0.0796   \n",
       "2    36  Completed      0.28269         0.275                      NaN   \n",
       "\n",
       "   ProsperScore BorrowerState    Occupation EmploymentStatus  \\\n",
       "0           NaN            CO         Other    Self-employed   \n",
       "1           7.0            CO  Professional         Employed   \n",
       "2           NaN            GA         Other    Not available   \n",
       "\n",
       "   IsBorrowerHomeowner  DebtToIncomeRatio     IncomeRange  IncomeVerifiable  \\\n",
       "0                 True               0.17  $25,000-49,999              True   \n",
       "1                False               0.18  $50,000-74,999              True   \n",
       "2                False               0.06   Not displayed              True   \n",
       "\n",
       "   StatedMonthlyIncome  LoanOriginalAmount  MonthlyLoanPayment  PercentFunded  \n",
       "0          3083.333333                9425              330.43            1.0  \n",
       "1          6125.000000               10000              318.93            1.0  \n",
       "2          2083.333333                3001              123.32            1.0  "
      ]
     },
     "execution_count": 4,
     "metadata": {},
     "output_type": "execute_result"
    }
   ],
   "source": [
    "df = pd.read_csv('prosperLoanData.csv', usecols= ['Term', \n",
    "        'LoanStatus', \n",
    "        'EstimatedEffectiveYield' ,  \n",
    "        'BorrowerAPR' , \n",
    "        'BorrowerRate' , \n",
    "        'ProsperScore',                     \n",
    "        'EmploymentStatus',\n",
    "        'Occupation',  \n",
    "        'IsBorrowerHomeowner', \n",
    "        'IncomeVerifiable', \n",
    "        'StatedMonthlyIncome', \n",
    "        'MonthlyLoanPayment',\n",
    "        'DebtToIncomeRatio',\n",
    "        'LoanOriginalAmount' ,\n",
    "        'PercentFunded',\n",
    "        'IncomeRange',\n",
    "        'BorrowerState']\n",
    ")\n",
    "df.head(3)"
   ]
  },
  {
   "cell_type": "code",
   "execution_count": 5,
   "metadata": {
    "slideshow": {
     "slide_type": "skip"
    }
   },
   "outputs": [
    {
     "data": {
      "text/plain": [
       "(113937, 17)"
      ]
     },
     "execution_count": 5,
     "metadata": {},
     "output_type": "execute_result"
    }
   ],
   "source": [
    "df.shape"
   ]
  },
  {
   "cell_type": "code",
   "execution_count": 6,
   "metadata": {
    "slideshow": {
     "slide_type": "skip"
    }
   },
   "outputs": [
    {
     "name": "stdout",
     "output_type": "stream",
     "text": [
      "<class 'pandas.core.frame.DataFrame'>\n",
      "RangeIndex: 113937 entries, 0 to 113936\n",
      "Data columns (total 17 columns):\n",
      " #   Column                   Non-Null Count   Dtype  \n",
      "---  ------                   --------------   -----  \n",
      " 0   Term                     113937 non-null  int64  \n",
      " 1   LoanStatus               113937 non-null  object \n",
      " 2   BorrowerAPR              113912 non-null  float64\n",
      " 3   BorrowerRate             113937 non-null  float64\n",
      " 4   EstimatedEffectiveYield  84853 non-null   float64\n",
      " 5   ProsperScore             84853 non-null   float64\n",
      " 6   BorrowerState            108422 non-null  object \n",
      " 7   Occupation               110349 non-null  object \n",
      " 8   EmploymentStatus         111682 non-null  object \n",
      " 9   IsBorrowerHomeowner      113937 non-null  bool   \n",
      " 10  DebtToIncomeRatio        105383 non-null  float64\n",
      " 11  IncomeRange              113937 non-null  object \n",
      " 12  IncomeVerifiable         113937 non-null  bool   \n",
      " 13  StatedMonthlyIncome      113937 non-null  float64\n",
      " 14  LoanOriginalAmount       113937 non-null  int64  \n",
      " 15  MonthlyLoanPayment       113937 non-null  float64\n",
      " 16  PercentFunded            113937 non-null  float64\n",
      "dtypes: bool(2), float64(8), int64(2), object(5)\n",
      "memory usage: 13.3+ MB\n"
     ]
    }
   ],
   "source": [
    "df.info()"
   ]
  },
  {
   "cell_type": "markdown",
   "metadata": {
    "slideshow": {
     "slide_type": "skip"
    }
   },
   "source": [
    "* since this project is about visualisation, lets drop all null-values to make our lifes simpler"
   ]
  },
  {
   "cell_type": "code",
   "execution_count": 7,
   "metadata": {
    "slideshow": {
     "slide_type": "skip"
    }
   },
   "outputs": [],
   "source": [
    "df = df.dropna()"
   ]
  },
  {
   "cell_type": "code",
   "execution_count": 8,
   "metadata": {
    "slideshow": {
     "slide_type": "skip"
    }
   },
   "outputs": [],
   "source": [
    "#convert term into category\n",
    "df['Term'] = df['Term'].astype('category')"
   ]
  },
  {
   "cell_type": "code",
   "execution_count": 9,
   "metadata": {
    "slideshow": {
     "slide_type": "skip"
    }
   },
   "outputs": [
    {
     "data": {
      "text/html": [
       "<div>\n",
       "<style scoped>\n",
       "    .dataframe tbody tr th:only-of-type {\n",
       "        vertical-align: middle;\n",
       "    }\n",
       "\n",
       "    .dataframe tbody tr th {\n",
       "        vertical-align: top;\n",
       "    }\n",
       "\n",
       "    .dataframe thead th {\n",
       "        text-align: right;\n",
       "    }\n",
       "</style>\n",
       "<table border=\"1\" class=\"dataframe\">\n",
       "  <thead>\n",
       "    <tr style=\"text-align: right;\">\n",
       "      <th></th>\n",
       "      <th>Term</th>\n",
       "      <th>LoanStatus</th>\n",
       "      <th>BorrowerAPR</th>\n",
       "      <th>BorrowerRate</th>\n",
       "      <th>EstimatedEffectiveYield</th>\n",
       "      <th>ProsperScore</th>\n",
       "      <th>BorrowerState</th>\n",
       "      <th>Occupation</th>\n",
       "      <th>EmploymentStatus</th>\n",
       "      <th>IsBorrowerHomeowner</th>\n",
       "      <th>DebtToIncomeRatio</th>\n",
       "      <th>IncomeRange</th>\n",
       "      <th>IncomeVerifiable</th>\n",
       "      <th>StatedMonthlyIncome</th>\n",
       "      <th>LoanOriginalAmount</th>\n",
       "      <th>MonthlyLoanPayment</th>\n",
       "      <th>PercentFunded</th>\n",
       "    </tr>\n",
       "  </thead>\n",
       "  <tbody>\n",
       "    <tr>\n",
       "      <th>1</th>\n",
       "      <td>36</td>\n",
       "      <td>Current</td>\n",
       "      <td>0.12016</td>\n",
       "      <td>0.0920</td>\n",
       "      <td>0.07960</td>\n",
       "      <td>7.0</td>\n",
       "      <td>CO</td>\n",
       "      <td>Professional</td>\n",
       "      <td>Employed</td>\n",
       "      <td>False</td>\n",
       "      <td>0.18</td>\n",
       "      <td>$50,000-74,999</td>\n",
       "      <td>True</td>\n",
       "      <td>6125.000000</td>\n",
       "      <td>10000</td>\n",
       "      <td>318.93</td>\n",
       "      <td>1.0</td>\n",
       "    </tr>\n",
       "    <tr>\n",
       "      <th>3</th>\n",
       "      <td>36</td>\n",
       "      <td>Current</td>\n",
       "      <td>0.12528</td>\n",
       "      <td>0.0974</td>\n",
       "      <td>0.08490</td>\n",
       "      <td>9.0</td>\n",
       "      <td>GA</td>\n",
       "      <td>Skilled Labor</td>\n",
       "      <td>Employed</td>\n",
       "      <td>True</td>\n",
       "      <td>0.15</td>\n",
       "      <td>$25,000-49,999</td>\n",
       "      <td>True</td>\n",
       "      <td>2875.000000</td>\n",
       "      <td>10000</td>\n",
       "      <td>321.45</td>\n",
       "      <td>1.0</td>\n",
       "    </tr>\n",
       "    <tr>\n",
       "      <th>4</th>\n",
       "      <td>36</td>\n",
       "      <td>Current</td>\n",
       "      <td>0.24614</td>\n",
       "      <td>0.2085</td>\n",
       "      <td>0.18316</td>\n",
       "      <td>4.0</td>\n",
       "      <td>MN</td>\n",
       "      <td>Executive</td>\n",
       "      <td>Employed</td>\n",
       "      <td>True</td>\n",
       "      <td>0.26</td>\n",
       "      <td>$100,000+</td>\n",
       "      <td>True</td>\n",
       "      <td>9583.333333</td>\n",
       "      <td>15000</td>\n",
       "      <td>563.97</td>\n",
       "      <td>1.0</td>\n",
       "    </tr>\n",
       "    <tr>\n",
       "      <th>5</th>\n",
       "      <td>60</td>\n",
       "      <td>Current</td>\n",
       "      <td>0.15425</td>\n",
       "      <td>0.1314</td>\n",
       "      <td>0.11567</td>\n",
       "      <td>10.0</td>\n",
       "      <td>NM</td>\n",
       "      <td>Professional</td>\n",
       "      <td>Employed</td>\n",
       "      <td>True</td>\n",
       "      <td>0.36</td>\n",
       "      <td>$100,000+</td>\n",
       "      <td>True</td>\n",
       "      <td>8333.333333</td>\n",
       "      <td>15000</td>\n",
       "      <td>342.37</td>\n",
       "      <td>1.0</td>\n",
       "    </tr>\n",
       "    <tr>\n",
       "      <th>6</th>\n",
       "      <td>36</td>\n",
       "      <td>Current</td>\n",
       "      <td>0.31032</td>\n",
       "      <td>0.2712</td>\n",
       "      <td>0.23820</td>\n",
       "      <td>2.0</td>\n",
       "      <td>KS</td>\n",
       "      <td>Sales - Retail</td>\n",
       "      <td>Employed</td>\n",
       "      <td>False</td>\n",
       "      <td>0.27</td>\n",
       "      <td>$25,000-49,999</td>\n",
       "      <td>True</td>\n",
       "      <td>2083.333333</td>\n",
       "      <td>3000</td>\n",
       "      <td>122.67</td>\n",
       "      <td>1.0</td>\n",
       "    </tr>\n",
       "    <tr>\n",
       "      <th>...</th>\n",
       "      <td>...</td>\n",
       "      <td>...</td>\n",
       "      <td>...</td>\n",
       "      <td>...</td>\n",
       "      <td>...</td>\n",
       "      <td>...</td>\n",
       "      <td>...</td>\n",
       "      <td>...</td>\n",
       "      <td>...</td>\n",
       "      <td>...</td>\n",
       "      <td>...</td>\n",
       "      <td>...</td>\n",
       "      <td>...</td>\n",
       "      <td>...</td>\n",
       "      <td>...</td>\n",
       "      <td>...</td>\n",
       "      <td>...</td>\n",
       "    </tr>\n",
       "    <tr>\n",
       "      <th>113932</th>\n",
       "      <td>36</td>\n",
       "      <td>Current</td>\n",
       "      <td>0.22354</td>\n",
       "      <td>0.1864</td>\n",
       "      <td>0.16490</td>\n",
       "      <td>5.0</td>\n",
       "      <td>IL</td>\n",
       "      <td>Food Service Management</td>\n",
       "      <td>Employed</td>\n",
       "      <td>True</td>\n",
       "      <td>0.13</td>\n",
       "      <td>$50,000-74,999</td>\n",
       "      <td>True</td>\n",
       "      <td>4333.333333</td>\n",
       "      <td>10000</td>\n",
       "      <td>364.74</td>\n",
       "      <td>1.0</td>\n",
       "    </tr>\n",
       "    <tr>\n",
       "      <th>113933</th>\n",
       "      <td>36</td>\n",
       "      <td>FinalPaymentInProgress</td>\n",
       "      <td>0.13220</td>\n",
       "      <td>0.1110</td>\n",
       "      <td>0.10070</td>\n",
       "      <td>8.0</td>\n",
       "      <td>PA</td>\n",
       "      <td>Professional</td>\n",
       "      <td>Employed</td>\n",
       "      <td>True</td>\n",
       "      <td>0.11</td>\n",
       "      <td>$75,000-99,999</td>\n",
       "      <td>True</td>\n",
       "      <td>8041.666667</td>\n",
       "      <td>2000</td>\n",
       "      <td>65.57</td>\n",
       "      <td>1.0</td>\n",
       "    </tr>\n",
       "    <tr>\n",
       "      <th>113934</th>\n",
       "      <td>60</td>\n",
       "      <td>Current</td>\n",
       "      <td>0.23984</td>\n",
       "      <td>0.2150</td>\n",
       "      <td>0.18828</td>\n",
       "      <td>3.0</td>\n",
       "      <td>TX</td>\n",
       "      <td>Other</td>\n",
       "      <td>Employed</td>\n",
       "      <td>True</td>\n",
       "      <td>0.51</td>\n",
       "      <td>$25,000-49,999</td>\n",
       "      <td>True</td>\n",
       "      <td>2875.000000</td>\n",
       "      <td>10000</td>\n",
       "      <td>273.35</td>\n",
       "      <td>1.0</td>\n",
       "    </tr>\n",
       "    <tr>\n",
       "      <th>113935</th>\n",
       "      <td>60</td>\n",
       "      <td>Completed</td>\n",
       "      <td>0.28408</td>\n",
       "      <td>0.2605</td>\n",
       "      <td>0.24450</td>\n",
       "      <td>5.0</td>\n",
       "      <td>GA</td>\n",
       "      <td>Food Service</td>\n",
       "      <td>Full-time</td>\n",
       "      <td>True</td>\n",
       "      <td>0.48</td>\n",
       "      <td>$25,000-49,999</td>\n",
       "      <td>True</td>\n",
       "      <td>3875.000000</td>\n",
       "      <td>15000</td>\n",
       "      <td>449.55</td>\n",
       "      <td>1.0</td>\n",
       "    </tr>\n",
       "    <tr>\n",
       "      <th>113936</th>\n",
       "      <td>36</td>\n",
       "      <td>Current</td>\n",
       "      <td>0.13189</td>\n",
       "      <td>0.1039</td>\n",
       "      <td>0.09071</td>\n",
       "      <td>7.0</td>\n",
       "      <td>NY</td>\n",
       "      <td>Professor</td>\n",
       "      <td>Employed</td>\n",
       "      <td>False</td>\n",
       "      <td>0.23</td>\n",
       "      <td>$50,000-74,999</td>\n",
       "      <td>True</td>\n",
       "      <td>4583.333333</td>\n",
       "      <td>2000</td>\n",
       "      <td>64.90</td>\n",
       "      <td>1.0</td>\n",
       "    </tr>\n",
       "  </tbody>\n",
       "</table>\n",
       "<p>76224 rows × 17 columns</p>\n",
       "</div>"
      ],
      "text/plain": [
       "       Term              LoanStatus  BorrowerAPR  BorrowerRate  \\\n",
       "1        36                 Current      0.12016        0.0920   \n",
       "3        36                 Current      0.12528        0.0974   \n",
       "4        36                 Current      0.24614        0.2085   \n",
       "5        60                 Current      0.15425        0.1314   \n",
       "6        36                 Current      0.31032        0.2712   \n",
       "...     ...                     ...          ...           ...   \n",
       "113932   36                 Current      0.22354        0.1864   \n",
       "113933   36  FinalPaymentInProgress      0.13220        0.1110   \n",
       "113934   60                 Current      0.23984        0.2150   \n",
       "113935   60               Completed      0.28408        0.2605   \n",
       "113936   36                 Current      0.13189        0.1039   \n",
       "\n",
       "        EstimatedEffectiveYield  ProsperScore BorrowerState  \\\n",
       "1                       0.07960           7.0            CO   \n",
       "3                       0.08490           9.0            GA   \n",
       "4                       0.18316           4.0            MN   \n",
       "5                       0.11567          10.0            NM   \n",
       "6                       0.23820           2.0            KS   \n",
       "...                         ...           ...           ...   \n",
       "113932                  0.16490           5.0            IL   \n",
       "113933                  0.10070           8.0            PA   \n",
       "113934                  0.18828           3.0            TX   \n",
       "113935                  0.24450           5.0            GA   \n",
       "113936                  0.09071           7.0            NY   \n",
       "\n",
       "                     Occupation EmploymentStatus  IsBorrowerHomeowner  \\\n",
       "1                  Professional         Employed                False   \n",
       "3                 Skilled Labor         Employed                 True   \n",
       "4                     Executive         Employed                 True   \n",
       "5                  Professional         Employed                 True   \n",
       "6                Sales - Retail         Employed                False   \n",
       "...                         ...              ...                  ...   \n",
       "113932  Food Service Management         Employed                 True   \n",
       "113933             Professional         Employed                 True   \n",
       "113934                    Other         Employed                 True   \n",
       "113935             Food Service        Full-time                 True   \n",
       "113936                Professor         Employed                False   \n",
       "\n",
       "        DebtToIncomeRatio     IncomeRange  IncomeVerifiable  \\\n",
       "1                    0.18  $50,000-74,999              True   \n",
       "3                    0.15  $25,000-49,999              True   \n",
       "4                    0.26       $100,000+              True   \n",
       "5                    0.36       $100,000+              True   \n",
       "6                    0.27  $25,000-49,999              True   \n",
       "...                   ...             ...               ...   \n",
       "113932               0.13  $50,000-74,999              True   \n",
       "113933               0.11  $75,000-99,999              True   \n",
       "113934               0.51  $25,000-49,999              True   \n",
       "113935               0.48  $25,000-49,999              True   \n",
       "113936               0.23  $50,000-74,999              True   \n",
       "\n",
       "        StatedMonthlyIncome  LoanOriginalAmount  MonthlyLoanPayment  \\\n",
       "1               6125.000000               10000              318.93   \n",
       "3               2875.000000               10000              321.45   \n",
       "4               9583.333333               15000              563.97   \n",
       "5               8333.333333               15000              342.37   \n",
       "6               2083.333333                3000              122.67   \n",
       "...                     ...                 ...                 ...   \n",
       "113932          4333.333333               10000              364.74   \n",
       "113933          8041.666667                2000               65.57   \n",
       "113934          2875.000000               10000              273.35   \n",
       "113935          3875.000000               15000              449.55   \n",
       "113936          4583.333333                2000               64.90   \n",
       "\n",
       "        PercentFunded  \n",
       "1                 1.0  \n",
       "3                 1.0  \n",
       "4                 1.0  \n",
       "5                 1.0  \n",
       "6                 1.0  \n",
       "...               ...  \n",
       "113932            1.0  \n",
       "113933            1.0  \n",
       "113934            1.0  \n",
       "113935            1.0  \n",
       "113936            1.0  \n",
       "\n",
       "[76224 rows x 17 columns]"
      ]
     },
     "execution_count": 9,
     "metadata": {},
     "output_type": "execute_result"
    }
   ],
   "source": [
    "df"
   ]
  },
  {
   "cell_type": "markdown",
   "metadata": {
    "slideshow": {
     "slide_type": "skip"
    }
   },
   "source": [
    "* data looks good now, no null values."
   ]
  },
  {
   "cell_type": "markdown",
   "metadata": {
    "slideshow": {
     "slide_type": "skip"
    }
   },
   "source": [
    "#### Identify the type of variables"
   ]
  },
  {
   "cell_type": "code",
   "execution_count": 10,
   "metadata": {
    "slideshow": {
     "slide_type": "skip"
    }
   },
   "outputs": [
    {
     "name": "stdout",
     "output_type": "stream",
     "text": [
      "<class 'pandas.core.frame.DataFrame'>\n",
      "Int64Index: 76224 entries, 1 to 113936\n",
      "Data columns (total 17 columns):\n",
      " #   Column                   Non-Null Count  Dtype   \n",
      "---  ------                   --------------  -----   \n",
      " 0   Term                     76224 non-null  category\n",
      " 1   LoanStatus               76224 non-null  object  \n",
      " 2   BorrowerAPR              76224 non-null  float64 \n",
      " 3   BorrowerRate             76224 non-null  float64 \n",
      " 4   EstimatedEffectiveYield  76224 non-null  float64 \n",
      " 5   ProsperScore             76224 non-null  float64 \n",
      " 6   BorrowerState            76224 non-null  object  \n",
      " 7   Occupation               76224 non-null  object  \n",
      " 8   EmploymentStatus         76224 non-null  object  \n",
      " 9   IsBorrowerHomeowner      76224 non-null  bool    \n",
      " 10  DebtToIncomeRatio        76224 non-null  float64 \n",
      " 11  IncomeRange              76224 non-null  object  \n",
      " 12  IncomeVerifiable         76224 non-null  bool    \n",
      " 13  StatedMonthlyIncome      76224 non-null  float64 \n",
      " 14  LoanOriginalAmount       76224 non-null  int64   \n",
      " 15  MonthlyLoanPayment       76224 non-null  float64 \n",
      " 16  PercentFunded            76224 non-null  float64 \n",
      "dtypes: bool(2), category(1), float64(8), int64(1), object(5)\n",
      "memory usage: 8.9+ MB\n"
     ]
    }
   ],
   "source": [
    "df.info()"
   ]
  },
  {
   "cell_type": "markdown",
   "metadata": {
    "slideshow": {
     "slide_type": "skip"
    }
   },
   "source": [
    "we have various integers and float columns. We could simply do a list for filtering, but we can also do it more elegantly with df.select_dtypes"
   ]
  },
  {
   "cell_type": "code",
   "execution_count": 11,
   "metadata": {
    "slideshow": {
     "slide_type": "skip"
    }
   },
   "outputs": [
    {
     "data": {
      "text/html": [
       "<div>\n",
       "<style scoped>\n",
       "    .dataframe tbody tr th:only-of-type {\n",
       "        vertical-align: middle;\n",
       "    }\n",
       "\n",
       "    .dataframe tbody tr th {\n",
       "        vertical-align: top;\n",
       "    }\n",
       "\n",
       "    .dataframe thead th {\n",
       "        text-align: right;\n",
       "    }\n",
       "</style>\n",
       "<table border=\"1\" class=\"dataframe\">\n",
       "  <thead>\n",
       "    <tr style=\"text-align: right;\">\n",
       "      <th></th>\n",
       "      <th>BorrowerAPR</th>\n",
       "      <th>BorrowerRate</th>\n",
       "      <th>EstimatedEffectiveYield</th>\n",
       "      <th>ProsperScore</th>\n",
       "      <th>DebtToIncomeRatio</th>\n",
       "      <th>StatedMonthlyIncome</th>\n",
       "      <th>LoanOriginalAmount</th>\n",
       "      <th>MonthlyLoanPayment</th>\n",
       "      <th>PercentFunded</th>\n",
       "    </tr>\n",
       "  </thead>\n",
       "  <tbody>\n",
       "    <tr>\n",
       "      <th>1</th>\n",
       "      <td>0.12016</td>\n",
       "      <td>0.0920</td>\n",
       "      <td>0.07960</td>\n",
       "      <td>7.0</td>\n",
       "      <td>0.18</td>\n",
       "      <td>6125.000000</td>\n",
       "      <td>10000</td>\n",
       "      <td>318.93</td>\n",
       "      <td>1.0</td>\n",
       "    </tr>\n",
       "    <tr>\n",
       "      <th>3</th>\n",
       "      <td>0.12528</td>\n",
       "      <td>0.0974</td>\n",
       "      <td>0.08490</td>\n",
       "      <td>9.0</td>\n",
       "      <td>0.15</td>\n",
       "      <td>2875.000000</td>\n",
       "      <td>10000</td>\n",
       "      <td>321.45</td>\n",
       "      <td>1.0</td>\n",
       "    </tr>\n",
       "    <tr>\n",
       "      <th>4</th>\n",
       "      <td>0.24614</td>\n",
       "      <td>0.2085</td>\n",
       "      <td>0.18316</td>\n",
       "      <td>4.0</td>\n",
       "      <td>0.26</td>\n",
       "      <td>9583.333333</td>\n",
       "      <td>15000</td>\n",
       "      <td>563.97</td>\n",
       "      <td>1.0</td>\n",
       "    </tr>\n",
       "    <tr>\n",
       "      <th>5</th>\n",
       "      <td>0.15425</td>\n",
       "      <td>0.1314</td>\n",
       "      <td>0.11567</td>\n",
       "      <td>10.0</td>\n",
       "      <td>0.36</td>\n",
       "      <td>8333.333333</td>\n",
       "      <td>15000</td>\n",
       "      <td>342.37</td>\n",
       "      <td>1.0</td>\n",
       "    </tr>\n",
       "    <tr>\n",
       "      <th>6</th>\n",
       "      <td>0.31032</td>\n",
       "      <td>0.2712</td>\n",
       "      <td>0.23820</td>\n",
       "      <td>2.0</td>\n",
       "      <td>0.27</td>\n",
       "      <td>2083.333333</td>\n",
       "      <td>3000</td>\n",
       "      <td>122.67</td>\n",
       "      <td>1.0</td>\n",
       "    </tr>\n",
       "    <tr>\n",
       "      <th>...</th>\n",
       "      <td>...</td>\n",
       "      <td>...</td>\n",
       "      <td>...</td>\n",
       "      <td>...</td>\n",
       "      <td>...</td>\n",
       "      <td>...</td>\n",
       "      <td>...</td>\n",
       "      <td>...</td>\n",
       "      <td>...</td>\n",
       "    </tr>\n",
       "    <tr>\n",
       "      <th>113932</th>\n",
       "      <td>0.22354</td>\n",
       "      <td>0.1864</td>\n",
       "      <td>0.16490</td>\n",
       "      <td>5.0</td>\n",
       "      <td>0.13</td>\n",
       "      <td>4333.333333</td>\n",
       "      <td>10000</td>\n",
       "      <td>364.74</td>\n",
       "      <td>1.0</td>\n",
       "    </tr>\n",
       "    <tr>\n",
       "      <th>113933</th>\n",
       "      <td>0.13220</td>\n",
       "      <td>0.1110</td>\n",
       "      <td>0.10070</td>\n",
       "      <td>8.0</td>\n",
       "      <td>0.11</td>\n",
       "      <td>8041.666667</td>\n",
       "      <td>2000</td>\n",
       "      <td>65.57</td>\n",
       "      <td>1.0</td>\n",
       "    </tr>\n",
       "    <tr>\n",
       "      <th>113934</th>\n",
       "      <td>0.23984</td>\n",
       "      <td>0.2150</td>\n",
       "      <td>0.18828</td>\n",
       "      <td>3.0</td>\n",
       "      <td>0.51</td>\n",
       "      <td>2875.000000</td>\n",
       "      <td>10000</td>\n",
       "      <td>273.35</td>\n",
       "      <td>1.0</td>\n",
       "    </tr>\n",
       "    <tr>\n",
       "      <th>113935</th>\n",
       "      <td>0.28408</td>\n",
       "      <td>0.2605</td>\n",
       "      <td>0.24450</td>\n",
       "      <td>5.0</td>\n",
       "      <td>0.48</td>\n",
       "      <td>3875.000000</td>\n",
       "      <td>15000</td>\n",
       "      <td>449.55</td>\n",
       "      <td>1.0</td>\n",
       "    </tr>\n",
       "    <tr>\n",
       "      <th>113936</th>\n",
       "      <td>0.13189</td>\n",
       "      <td>0.1039</td>\n",
       "      <td>0.09071</td>\n",
       "      <td>7.0</td>\n",
       "      <td>0.23</td>\n",
       "      <td>4583.333333</td>\n",
       "      <td>2000</td>\n",
       "      <td>64.90</td>\n",
       "      <td>1.0</td>\n",
       "    </tr>\n",
       "  </tbody>\n",
       "</table>\n",
       "<p>76224 rows × 9 columns</p>\n",
       "</div>"
      ],
      "text/plain": [
       "        BorrowerAPR  BorrowerRate  EstimatedEffectiveYield  ProsperScore  \\\n",
       "1           0.12016        0.0920                  0.07960           7.0   \n",
       "3           0.12528        0.0974                  0.08490           9.0   \n",
       "4           0.24614        0.2085                  0.18316           4.0   \n",
       "5           0.15425        0.1314                  0.11567          10.0   \n",
       "6           0.31032        0.2712                  0.23820           2.0   \n",
       "...             ...           ...                      ...           ...   \n",
       "113932      0.22354        0.1864                  0.16490           5.0   \n",
       "113933      0.13220        0.1110                  0.10070           8.0   \n",
       "113934      0.23984        0.2150                  0.18828           3.0   \n",
       "113935      0.28408        0.2605                  0.24450           5.0   \n",
       "113936      0.13189        0.1039                  0.09071           7.0   \n",
       "\n",
       "        DebtToIncomeRatio  StatedMonthlyIncome  LoanOriginalAmount  \\\n",
       "1                    0.18          6125.000000               10000   \n",
       "3                    0.15          2875.000000               10000   \n",
       "4                    0.26          9583.333333               15000   \n",
       "5                    0.36          8333.333333               15000   \n",
       "6                    0.27          2083.333333                3000   \n",
       "...                   ...                  ...                 ...   \n",
       "113932               0.13          4333.333333               10000   \n",
       "113933               0.11          8041.666667                2000   \n",
       "113934               0.51          2875.000000               10000   \n",
       "113935               0.48          3875.000000               15000   \n",
       "113936               0.23          4583.333333                2000   \n",
       "\n",
       "        MonthlyLoanPayment  PercentFunded  \n",
       "1                   318.93            1.0  \n",
       "3                   321.45            1.0  \n",
       "4                   563.97            1.0  \n",
       "5                   342.37            1.0  \n",
       "6                   122.67            1.0  \n",
       "...                    ...            ...  \n",
       "113932              364.74            1.0  \n",
       "113933               65.57            1.0  \n",
       "113934              273.35            1.0  \n",
       "113935              449.55            1.0  \n",
       "113936               64.90            1.0  \n",
       "\n",
       "[76224 rows x 9 columns]"
      ]
     },
     "execution_count": 11,
     "metadata": {},
     "output_type": "execute_result"
    }
   ],
   "source": [
    "#Numerical attributes\n",
    "df.select_dtypes(include=[\"int64\", \"float64\"])"
   ]
  },
  {
   "cell_type": "code",
   "execution_count": 12,
   "metadata": {
    "slideshow": {
     "slide_type": "skip"
    }
   },
   "outputs": [
    {
     "data": {
      "text/html": [
       "<div>\n",
       "<style scoped>\n",
       "    .dataframe tbody tr th:only-of-type {\n",
       "        vertical-align: middle;\n",
       "    }\n",
       "\n",
       "    .dataframe tbody tr th {\n",
       "        vertical-align: top;\n",
       "    }\n",
       "\n",
       "    .dataframe thead th {\n",
       "        text-align: right;\n",
       "    }\n",
       "</style>\n",
       "<table border=\"1\" class=\"dataframe\">\n",
       "  <thead>\n",
       "    <tr style=\"text-align: right;\">\n",
       "      <th></th>\n",
       "      <th>Term</th>\n",
       "      <th>LoanStatus</th>\n",
       "      <th>BorrowerState</th>\n",
       "      <th>Occupation</th>\n",
       "      <th>EmploymentStatus</th>\n",
       "      <th>IncomeRange</th>\n",
       "    </tr>\n",
       "  </thead>\n",
       "  <tbody>\n",
       "    <tr>\n",
       "      <th>1</th>\n",
       "      <td>36</td>\n",
       "      <td>Current</td>\n",
       "      <td>CO</td>\n",
       "      <td>Professional</td>\n",
       "      <td>Employed</td>\n",
       "      <td>$50,000-74,999</td>\n",
       "    </tr>\n",
       "    <tr>\n",
       "      <th>3</th>\n",
       "      <td>36</td>\n",
       "      <td>Current</td>\n",
       "      <td>GA</td>\n",
       "      <td>Skilled Labor</td>\n",
       "      <td>Employed</td>\n",
       "      <td>$25,000-49,999</td>\n",
       "    </tr>\n",
       "    <tr>\n",
       "      <th>4</th>\n",
       "      <td>36</td>\n",
       "      <td>Current</td>\n",
       "      <td>MN</td>\n",
       "      <td>Executive</td>\n",
       "      <td>Employed</td>\n",
       "      <td>$100,000+</td>\n",
       "    </tr>\n",
       "    <tr>\n",
       "      <th>5</th>\n",
       "      <td>60</td>\n",
       "      <td>Current</td>\n",
       "      <td>NM</td>\n",
       "      <td>Professional</td>\n",
       "      <td>Employed</td>\n",
       "      <td>$100,000+</td>\n",
       "    </tr>\n",
       "    <tr>\n",
       "      <th>6</th>\n",
       "      <td>36</td>\n",
       "      <td>Current</td>\n",
       "      <td>KS</td>\n",
       "      <td>Sales - Retail</td>\n",
       "      <td>Employed</td>\n",
       "      <td>$25,000-49,999</td>\n",
       "    </tr>\n",
       "    <tr>\n",
       "      <th>...</th>\n",
       "      <td>...</td>\n",
       "      <td>...</td>\n",
       "      <td>...</td>\n",
       "      <td>...</td>\n",
       "      <td>...</td>\n",
       "      <td>...</td>\n",
       "    </tr>\n",
       "    <tr>\n",
       "      <th>113932</th>\n",
       "      <td>36</td>\n",
       "      <td>Current</td>\n",
       "      <td>IL</td>\n",
       "      <td>Food Service Management</td>\n",
       "      <td>Employed</td>\n",
       "      <td>$50,000-74,999</td>\n",
       "    </tr>\n",
       "    <tr>\n",
       "      <th>113933</th>\n",
       "      <td>36</td>\n",
       "      <td>FinalPaymentInProgress</td>\n",
       "      <td>PA</td>\n",
       "      <td>Professional</td>\n",
       "      <td>Employed</td>\n",
       "      <td>$75,000-99,999</td>\n",
       "    </tr>\n",
       "    <tr>\n",
       "      <th>113934</th>\n",
       "      <td>60</td>\n",
       "      <td>Current</td>\n",
       "      <td>TX</td>\n",
       "      <td>Other</td>\n",
       "      <td>Employed</td>\n",
       "      <td>$25,000-49,999</td>\n",
       "    </tr>\n",
       "    <tr>\n",
       "      <th>113935</th>\n",
       "      <td>60</td>\n",
       "      <td>Completed</td>\n",
       "      <td>GA</td>\n",
       "      <td>Food Service</td>\n",
       "      <td>Full-time</td>\n",
       "      <td>$25,000-49,999</td>\n",
       "    </tr>\n",
       "    <tr>\n",
       "      <th>113936</th>\n",
       "      <td>36</td>\n",
       "      <td>Current</td>\n",
       "      <td>NY</td>\n",
       "      <td>Professor</td>\n",
       "      <td>Employed</td>\n",
       "      <td>$50,000-74,999</td>\n",
       "    </tr>\n",
       "  </tbody>\n",
       "</table>\n",
       "<p>76224 rows × 6 columns</p>\n",
       "</div>"
      ],
      "text/plain": [
       "       Term              LoanStatus BorrowerState               Occupation  \\\n",
       "1        36                 Current            CO             Professional   \n",
       "3        36                 Current            GA            Skilled Labor   \n",
       "4        36                 Current            MN                Executive   \n",
       "5        60                 Current            NM             Professional   \n",
       "6        36                 Current            KS           Sales - Retail   \n",
       "...     ...                     ...           ...                      ...   \n",
       "113932   36                 Current            IL  Food Service Management   \n",
       "113933   36  FinalPaymentInProgress            PA             Professional   \n",
       "113934   60                 Current            TX                    Other   \n",
       "113935   60               Completed            GA             Food Service   \n",
       "113936   36                 Current            NY                Professor   \n",
       "\n",
       "       EmploymentStatus     IncomeRange  \n",
       "1              Employed  $50,000-74,999  \n",
       "3              Employed  $25,000-49,999  \n",
       "4              Employed       $100,000+  \n",
       "5              Employed       $100,000+  \n",
       "6              Employed  $25,000-49,999  \n",
       "...                 ...             ...  \n",
       "113932         Employed  $50,000-74,999  \n",
       "113933         Employed  $75,000-99,999  \n",
       "113934         Employed  $25,000-49,999  \n",
       "113935        Full-time  $25,000-49,999  \n",
       "113936         Employed  $50,000-74,999  \n",
       "\n",
       "[76224 rows x 6 columns]"
      ]
     },
     "execution_count": 12,
     "metadata": {},
     "output_type": "execute_result"
    }
   ],
   "source": [
    "#Categorical attributes\n",
    "df.select_dtypes(include=[\"object\", \"category\"])"
   ]
  },
  {
   "cell_type": "markdown",
   "metadata": {
    "slideshow": {
     "slide_type": "skip"
    }
   },
   "source": [
    "## Univariate Exploration\n",
    "\n",
    "> In this section, we investigate distributions of individual variables. "
   ]
  },
  {
   "cell_type": "code",
   "execution_count": 13,
   "metadata": {
    "scrolled": true,
    "slideshow": {
     "slide_type": "slide"
    }
   },
   "outputs": [
    {
     "data": {
      "image/png": "[encoded data removed]",
      "text/plain": [
       "<Figure size 720x360 with 1 Axes>"
      ]
     },
     "metadata": {
      "needs_background": "light"
     },
     "output_type": "display_data"
    }
   ],
   "source": [
    "#'LoanStatus'\n",
    "plt.figure(figsize = [10, 5]) \n",
    "base_color = sb.color_palette()[0]\n",
    "plt.title(\"LoanStatus of all Borrowers\")\n",
    "sb.countplot(data = df, y = 'LoanStatus', color = base_color,\n",
    "             order = df['LoanStatus'].value_counts().index);"
   ]
  },
  {
   "cell_type": "markdown",
   "metadata": {
    "slideshow": {
     "slide_type": "subslide"
    }
   },
   "source": [
    "Looks like the dominant Loanstatus is *current*"
   ]
  },
  {
   "cell_type": "code",
   "execution_count": 14,
   "metadata": {
    "slideshow": {
     "slide_type": "slide"
    }
   },
   "outputs": [
    {
     "data": {
      "image/png": "[encoded data removed]",
      "text/plain": [
       "<Figure size 720x360 with 1 Axes>"
      ]
     },
     "metadata": {
      "needs_background": "light"
     },
     "output_type": "display_data"
    }
   ],
   "source": [
    "# 'EmploymentStatus'\n",
    "plt.figure(figsize = [10, 5]) \n",
    "plt.title(\"EmploymentStatus of all Borrowers\")\n",
    "sb.countplot(data = df, y = 'EmploymentStatus', color = base_color,\n",
    "             order = df['EmploymentStatus'].value_counts().index);"
   ]
  },
  {
   "cell_type": "markdown",
   "metadata": {
    "slideshow": {
     "slide_type": "subslide"
    }
   },
   "source": [
    "Majority of people are employed or full-time"
   ]
  },
  {
   "cell_type": "code",
   "execution_count": 61,
   "metadata": {
    "slideshow": {
     "slide_type": "slide"
    }
   },
   "outputs": [
    {
     "data": {
      "image/png": "[encoded data removed]",
      "text/plain": [
       "<Figure size 1080x576 with 1 Axes>"
      ]
     },
     "metadata": {},
     "output_type": "display_data"
    }
   ],
   "source": [
    "plt.figure(figsize = [15, 8])\n",
    "sorted_counts = df['IncomeRange'].value_counts()\n",
    "plt.pie(sorted_counts, labels = sorted_counts.index, startangle = 90,\n",
    "        counterclock = False, \n",
    "        wedgeprops = {'width' : 1}, \n",
    "        autopct   = '%.1f%%'\n",
    "        ),\n",
    "plt.title(\"IncomeRange of all Borrowers in %\", y = 1.05)\n",
    "plt.axis('square');\n",
    "plt.axis("
   ]
  },
  {
   "cell_type": "markdown",
   "metadata": {
    "slideshow": {
     "slide_type": "subslide"
    }
   },
   "source": [
    "blue, 31%: majority of people earn $50000-74999 dollars"
   ]
  },
  {
   "cell_type": "code",
   "execution_count": 16,
   "metadata": {
    "slideshow": {
     "slide_type": "slide"
    }
   },
   "outputs": [
    {
     "data": {
      "text/plain": [
       "Text(0.5, 1.0, 'ProsperScore of all Borrowers')"
      ]
     },
     "execution_count": 16,
     "metadata": {},
     "output_type": "execute_result"
    },
    {
     "data": {
      "image/png": "[encoded data removed]",
      "text/plain": [
       "<Figure size 720x360 with 1 Axes>"
      ]
     },
     "metadata": {
      "needs_background": "light"
     },
     "output_type": "display_data"
    }
   ],
   "source": [
    "#'ProsperScore'\n",
    "plt.figure(figsize = [10, 5]) \n",
    "sb.countplot(data = df, x = 'ProsperScore', color = base_color)\n",
    "plt.title(\"ProsperScore of all Borrowers\")"
   ]
  },
  {
   "cell_type": "markdown",
   "metadata": {
    "slideshow": {
     "slide_type": "subslide"
    }
   },
   "source": [
    "This looks like a normal disrbution"
   ]
  },
  {
   "cell_type": "code",
   "execution_count": 17,
   "metadata": {
    "slideshow": {
     "slide_type": "skip"
    }
   },
   "outputs": [
    {
     "name": "stdout",
     "output_type": "stream",
     "text": [
      "(76224, 17)\n"
     ]
    },
    {
     "data": {
      "text/plain": [
       "(75367, 17)"
      ]
     },
     "execution_count": 17,
     "metadata": {},
     "output_type": "execute_result"
    }
   ],
   "source": [
    "print(df.shape)\n",
    "df.loc[df[\"StatedMonthlyIncome\"]< 20000].shape"
   ]
  },
  {
   "cell_type": "markdown",
   "metadata": {
    "slideshow": {
     "slide_type": "skip"
    }
   },
   "source": [
    "as you can see, the majority of people (75359/76216) have a StatedMonthlyIncome of below 20000. Above, there are few people with a wide range of high incomes. For a histogramm, it is nicer to look at the  StatedMonthlyIncome  below 20000"
   ]
  },
  {
   "cell_type": "code",
   "execution_count": 18,
   "metadata": {
    "slideshow": {
     "slide_type": "skip"
    }
   },
   "outputs": [
    {
     "data": {
      "image/png": "[encoded data removed]",
      "text/plain": [
       "<Figure size 1080x576 with 1 Axes>"
      ]
     },
     "metadata": {
      "needs_background": "light"
     },
     "output_type": "display_data"
    }
   ],
   "source": [
    "plt.figure(figsize = [15, 8])\n",
    "df_sub = df.loc[df[\"StatedMonthlyIncome\"]< 20000]\n",
    "plt.hist(data = df_sub, x = 'StatedMonthlyIncome');\n",
    "plt.xlabel('StatedMonthlyIncome');\n",
    "plt.ylabel('Count');\n",
    "plt.title(\"StatedMonthlyIncome of Borrowers < 20000\") ;"
   ]
  },
  {
   "cell_type": "code",
   "execution_count": 19,
   "metadata": {
    "slideshow": {
     "slide_type": "slide"
    }
   },
   "outputs": [
    {
     "data": {
      "image/png": "[encoded data removed]",
      "text/plain": [
       "<Figure size 1080x576 with 1 Axes>"
      ]
     },
     "metadata": {
      "needs_background": "light"
     },
     "output_type": "display_data"
    }
   ],
   "source": [
    "plt.figure(figsize = [15, 8])\n",
    "plt.hist(data = df, x = 'LoanOriginalAmount');\n",
    "plt.xlabel('LoanOriginalAmount');\n",
    "plt.ylabel('Count');\n",
    "plt.title(\"histogramm of LoanOriginalAmount\") ;"
   ]
  },
  {
   "cell_type": "markdown",
   "metadata": {
    "collapsed": true,
    "slideshow": {
     "slide_type": "skip"
    }
   },
   "source": [
    "### Insights Univariate Exploration\n",
    "\n",
    "* **EmploymentStatus** majority of people work full time\n",
    "* **IncomeRange**: 31% of people earn $50000-74999 dollars\n",
    "* **ProsperScore**: normal distribution\n",
    "\n",
    "* **StatedMonthlyIncome:**\t\n",
    " Monthly Income is right skewed: very few people be have a higher salary. Majority of the borrowers are having a salary with less than 10000 USD and, peak is observed at 5000 USD\n",
    "\n",
    "* **LoanOriginalAmount:** Right skewed with multiple peaks observed around 4000 USD, 10000 USD and 17000 USD.\n",
    "\n",
    "* **Investors:** Majority of the investors are between 0 and 100"
   ]
  },
  {
   "cell_type": "markdown",
   "metadata": {
    "slideshow": {
     "slide_type": "skip"
    }
   },
   "source": [
    "### Bivariate Exploration\n",
    "\n",
    "In this section, investigate relationships between pairs of variables in your data. Make sure the variables that you cover here have been introduced in some fashion in the previous section (univariate exploration)."
   ]
  },
  {
   "cell_type": "markdown",
   "metadata": {
    "slideshow": {
     "slide_type": "skip"
    }
   },
   "source": [
    "#### Relationship between two numeric variables"
   ]
  },
  {
   "cell_type": "code",
   "execution_count": 20,
   "metadata": {
    "slideshow": {
     "slide_type": "skip"
    }
   },
   "outputs": [],
   "source": [
    "numeric_vars = df.select_dtypes(include=[\"int64\", \"float64\"])\n"
   ]
  },
  {
   "cell_type": "code",
   "execution_count": 21,
   "metadata": {
    "slideshow": {
     "slide_type": "skip"
    }
   },
   "outputs": [
    {
     "data": {
      "text/html": [
       "<div>\n",
       "<style scoped>\n",
       "    .dataframe tbody tr th:only-of-type {\n",
       "        vertical-align: middle;\n",
       "    }\n",
       "\n",
       "    .dataframe tbody tr th {\n",
       "        vertical-align: top;\n",
       "    }\n",
       "\n",
       "    .dataframe thead th {\n",
       "        text-align: right;\n",
       "    }\n",
       "</style>\n",
       "<table border=\"1\" class=\"dataframe\">\n",
       "  <thead>\n",
       "    <tr style=\"text-align: right;\">\n",
       "      <th></th>\n",
       "      <th>BorrowerAPR</th>\n",
       "      <th>BorrowerRate</th>\n",
       "      <th>EstimatedEffectiveYield</th>\n",
       "      <th>ProsperScore</th>\n",
       "      <th>DebtToIncomeRatio</th>\n",
       "      <th>StatedMonthlyIncome</th>\n",
       "      <th>LoanOriginalAmount</th>\n",
       "      <th>MonthlyLoanPayment</th>\n",
       "      <th>PercentFunded</th>\n",
       "    </tr>\n",
       "  </thead>\n",
       "  <tbody>\n",
       "    <tr>\n",
       "      <th>1</th>\n",
       "      <td>0.12016</td>\n",
       "      <td>0.0920</td>\n",
       "      <td>0.07960</td>\n",
       "      <td>7.0</td>\n",
       "      <td>0.18</td>\n",
       "      <td>6125.000000</td>\n",
       "      <td>10000</td>\n",
       "      <td>318.93</td>\n",
       "      <td>1.0</td>\n",
       "    </tr>\n",
       "    <tr>\n",
       "      <th>3</th>\n",
       "      <td>0.12528</td>\n",
       "      <td>0.0974</td>\n",
       "      <td>0.08490</td>\n",
       "      <td>9.0</td>\n",
       "      <td>0.15</td>\n",
       "      <td>2875.000000</td>\n",
       "      <td>10000</td>\n",
       "      <td>321.45</td>\n",
       "      <td>1.0</td>\n",
       "    </tr>\n",
       "    <tr>\n",
       "      <th>4</th>\n",
       "      <td>0.24614</td>\n",
       "      <td>0.2085</td>\n",
       "      <td>0.18316</td>\n",
       "      <td>4.0</td>\n",
       "      <td>0.26</td>\n",
       "      <td>9583.333333</td>\n",
       "      <td>15000</td>\n",
       "      <td>563.97</td>\n",
       "      <td>1.0</td>\n",
       "    </tr>\n",
       "    <tr>\n",
       "      <th>5</th>\n",
       "      <td>0.15425</td>\n",
       "      <td>0.1314</td>\n",
       "      <td>0.11567</td>\n",
       "      <td>10.0</td>\n",
       "      <td>0.36</td>\n",
       "      <td>8333.333333</td>\n",
       "      <td>15000</td>\n",
       "      <td>342.37</td>\n",
       "      <td>1.0</td>\n",
       "    </tr>\n",
       "    <tr>\n",
       "      <th>6</th>\n",
       "      <td>0.31032</td>\n",
       "      <td>0.2712</td>\n",
       "      <td>0.23820</td>\n",
       "      <td>2.0</td>\n",
       "      <td>0.27</td>\n",
       "      <td>2083.333333</td>\n",
       "      <td>3000</td>\n",
       "      <td>122.67</td>\n",
       "      <td>1.0</td>\n",
       "    </tr>\n",
       "    <tr>\n",
       "      <th>...</th>\n",
       "      <td>...</td>\n",
       "      <td>...</td>\n",
       "      <td>...</td>\n",
       "      <td>...</td>\n",
       "      <td>...</td>\n",
       "      <td>...</td>\n",
       "      <td>...</td>\n",
       "      <td>...</td>\n",
       "      <td>...</td>\n",
       "    </tr>\n",
       "    <tr>\n",
       "      <th>113932</th>\n",
       "      <td>0.22354</td>\n",
       "      <td>0.1864</td>\n",
       "      <td>0.16490</td>\n",
       "      <td>5.0</td>\n",
       "      <td>0.13</td>\n",
       "      <td>4333.333333</td>\n",
       "      <td>10000</td>\n",
       "      <td>364.74</td>\n",
       "      <td>1.0</td>\n",
       "    </tr>\n",
       "    <tr>\n",
       "      <th>113933</th>\n",
       "      <td>0.13220</td>\n",
       "      <td>0.1110</td>\n",
       "      <td>0.10070</td>\n",
       "      <td>8.0</td>\n",
       "      <td>0.11</td>\n",
       "      <td>8041.666667</td>\n",
       "      <td>2000</td>\n",
       "      <td>65.57</td>\n",
       "      <td>1.0</td>\n",
       "    </tr>\n",
       "    <tr>\n",
       "      <th>113934</th>\n",
       "      <td>0.23984</td>\n",
       "      <td>0.2150</td>\n",
       "      <td>0.18828</td>\n",
       "      <td>3.0</td>\n",
       "      <td>0.51</td>\n",
       "      <td>2875.000000</td>\n",
       "      <td>10000</td>\n",
       "      <td>273.35</td>\n",
       "      <td>1.0</td>\n",
       "    </tr>\n",
       "    <tr>\n",
       "      <th>113935</th>\n",
       "      <td>0.28408</td>\n",
       "      <td>0.2605</td>\n",
       "      <td>0.24450</td>\n",
       "      <td>5.0</td>\n",
       "      <td>0.48</td>\n",
       "      <td>3875.000000</td>\n",
       "      <td>15000</td>\n",
       "      <td>449.55</td>\n",
       "      <td>1.0</td>\n",
       "    </tr>\n",
       "    <tr>\n",
       "      <th>113936</th>\n",
       "      <td>0.13189</td>\n",
       "      <td>0.1039</td>\n",
       "      <td>0.09071</td>\n",
       "      <td>7.0</td>\n",
       "      <td>0.23</td>\n",
       "      <td>4583.333333</td>\n",
       "      <td>2000</td>\n",
       "      <td>64.90</td>\n",
       "      <td>1.0</td>\n",
       "    </tr>\n",
       "  </tbody>\n",
       "</table>\n",
       "<p>76224 rows × 9 columns</p>\n",
       "</div>"
      ],
      "text/plain": [
       "        BorrowerAPR  BorrowerRate  EstimatedEffectiveYield  ProsperScore  \\\n",
       "1           0.12016        0.0920                  0.07960           7.0   \n",
       "3           0.12528        0.0974                  0.08490           9.0   \n",
       "4           0.24614        0.2085                  0.18316           4.0   \n",
       "5           0.15425        0.1314                  0.11567          10.0   \n",
       "6           0.31032        0.2712                  0.23820           2.0   \n",
       "...             ...           ...                      ...           ...   \n",
       "113932      0.22354        0.1864                  0.16490           5.0   \n",
       "113933      0.13220        0.1110                  0.10070           8.0   \n",
       "113934      0.23984        0.2150                  0.18828           3.0   \n",
       "113935      0.28408        0.2605                  0.24450           5.0   \n",
       "113936      0.13189        0.1039                  0.09071           7.0   \n",
       "\n",
       "        DebtToIncomeRatio  StatedMonthlyIncome  LoanOriginalAmount  \\\n",
       "1                    0.18          6125.000000               10000   \n",
       "3                    0.15          2875.000000               10000   \n",
       "4                    0.26          9583.333333               15000   \n",
       "5                    0.36          8333.333333               15000   \n",
       "6                    0.27          2083.333333                3000   \n",
       "...                   ...                  ...                 ...   \n",
       "113932               0.13          4333.333333               10000   \n",
       "113933               0.11          8041.666667                2000   \n",
       "113934               0.51          2875.000000               10000   \n",
       "113935               0.48          3875.000000               15000   \n",
       "113936               0.23          4583.333333                2000   \n",
       "\n",
       "        MonthlyLoanPayment  PercentFunded  \n",
       "1                   318.93            1.0  \n",
       "3                   321.45            1.0  \n",
       "4                   563.97            1.0  \n",
       "5                   342.37            1.0  \n",
       "6                   122.67            1.0  \n",
       "...                    ...            ...  \n",
       "113932              364.74            1.0  \n",
       "113933               65.57            1.0  \n",
       "113934              273.35            1.0  \n",
       "113935              449.55            1.0  \n",
       "113936               64.90            1.0  \n",
       "\n",
       "[76224 rows x 9 columns]"
      ]
     },
     "execution_count": 21,
     "metadata": {},
     "output_type": "execute_result"
    }
   ],
   "source": [
    "numeric_vars"
   ]
  },
  {
   "cell_type": "code",
   "execution_count": 73,
   "metadata": {
    "slideshow": {
     "slide_type": "slide"
    }
   },
   "outputs": [
    {
     "data": {
      "image/png": "[encoded data removed]",
      "text/plain": [
       "<Figure size 540x540 with 12 Axes>"
      ]
     },
     "metadata": {
      "needs_background": "light"
     },
     "output_type": "display_data"
    }
   ],
   "source": [
    "#g.fig.set_size_inches(14, 8);\n",
    "\n",
    "sb.pairplot(numeric_vars[[\"BorrowerAPR\", \"BorrowerRate\", \"EstimatedEffectiveYield\"]]);\n",
    "\n",
    "plt.title(\"Pairplot of BorrowerAPR, BorrowerRate, EstimatedEffectiveYield\", y = 3.2);"
   ]
  },
  {
   "cell_type": "markdown",
   "metadata": {
    "slideshow": {
     "slide_type": "subslide"
    }
   },
   "source": [
    "The diagonal plots show  marginal distribution of the data in each column.\n",
    "\n",
    "These plots clearly show that BorrowerAPR, BorrowerRate and EstimatedEffectiveYield all correlate positive with each other"
   ]
  },
  {
   "cell_type": "markdown",
   "metadata": {
    "slideshow": {
     "slide_type": "subslide"
    }
   },
   "source": [
    "This just confirms what we have seen above"
   ]
  },
  {
   "cell_type": "code",
   "execution_count": 77,
   "metadata": {
    "slideshow": {
     "slide_type": "slide"
    }
   },
   "outputs": [
    {
     "data": {
      "image/png": "[encoded data removed]",
      "text/plain": [
       "<Figure size 864x576 with 2 Axes>"
      ]
     },
     "metadata": {
      "needs_background": "light"
     },
     "output_type": "display_data"
    }
   ],
   "source": [
    "# correlation plot\n",
    "plt.figure(figsize = [12, 8]);\n",
    "sb.heatmap(numeric_vars.corr(), annot = False, fmt = '.3f',\n",
    "           cmap = 'vlag_r', center = 0);\n",
    "\n",
    "plt.title(\"Heatmat of numeric_vars\", y = 1);"
   ]
  },
  {
   "cell_type": "markdown",
   "metadata": {
    "slideshow": {
     "slide_type": "subslide"
    }
   },
   "source": [
    "A heatmap is a very powerful plot. We can easily identify columns that have a positive- & negative correlation or do not correlate at all.\n",
    "\n",
    "Columns which have a positive correlation are for example:\n",
    "\n",
    "- Borrower APR (annual percentage rate) & Borrower Rate have a positve correlation\n",
    "- Borrower APR & EstimatedEffectedYield have a positive correlation\n",
    "\n",
    "\n",
    "Borrower APR and ProsperRating_Numeric have a negative correlation. Borrower APR & ListCategory Numeric do not seem to correlate"
   ]
  },
  {
   "cell_type": "markdown",
   "metadata": {
    "slideshow": {
     "slide_type": "skip"
    }
   },
   "source": [
    "## Multivariate Exploration\n",
    "\n",
    "> Create plots of three or more variables to investigate your data even\n",
    "further. Make sure that your investigations are justified, and follow from\n",
    "your work in the previous sections."
   ]
  },
  {
   "cell_type": "code",
   "execution_count": 24,
   "metadata": {
    "slideshow": {
     "slide_type": "skip"
    }
   },
   "outputs": [
    {
     "data": {
      "text/plain": [
       "Index(['Chargedoff', 'Completed', 'Current', 'Defaulted',\n",
       "       'FinalPaymentInProgress', 'Past Due (1-15 days)',\n",
       "       'Past Due (16-30 days)', 'Past Due (31-60 days)',\n",
       "       'Past Due (61-90 days)', 'Past Due (91-120 days)',\n",
       "       'Past Due (>120 days)'],\n",
       "      dtype='object')"
      ]
     },
     "execution_count": 24,
     "metadata": {},
     "output_type": "execute_result"
    }
   ],
   "source": [
    "pd.get_dummies(df[\"LoanStatus\"]).columns"
   ]
  },
  {
   "cell_type": "code",
   "execution_count": 25,
   "metadata": {
    "slideshow": {
     "slide_type": "skip"
    }
   },
   "outputs": [],
   "source": [
    "#df[pd.get_dummies(df[\"LoanStatus\"]).columns] = pd.get_dummies(df[\"LoanStatus\"])"
   ]
  },
  {
   "cell_type": "code",
   "execution_count": 26,
   "metadata": {
    "slideshow": {
     "slide_type": "skip"
    }
   },
   "outputs": [
    {
     "name": "stdout",
     "output_type": "stream",
     "text": [
      "<class 'pandas.core.frame.DataFrame'>\n",
      "Int64Index: 76224 entries, 1 to 113936\n",
      "Data columns (total 17 columns):\n",
      " #   Column                   Non-Null Count  Dtype   \n",
      "---  ------                   --------------  -----   \n",
      " 0   Term                     76224 non-null  category\n",
      " 1   LoanStatus               76224 non-null  object  \n",
      " 2   BorrowerAPR              76224 non-null  float64 \n",
      " 3   BorrowerRate             76224 non-null  float64 \n",
      " 4   EstimatedEffectiveYield  76224 non-null  float64 \n",
      " 5   ProsperScore             76224 non-null  float64 \n",
      " 6   BorrowerState            76224 non-null  object  \n",
      " 7   Occupation               76224 non-null  object  \n",
      " 8   EmploymentStatus         76224 non-null  object  \n",
      " 9   IsBorrowerHomeowner      76224 non-null  bool    \n",
      " 10  DebtToIncomeRatio        76224 non-null  float64 \n",
      " 11  IncomeRange              76224 non-null  object  \n",
      " 12  IncomeVerifiable         76224 non-null  bool    \n",
      " 13  StatedMonthlyIncome      76224 non-null  float64 \n",
      " 14  LoanOriginalAmount       76224 non-null  int64   \n",
      " 15  MonthlyLoanPayment       76224 non-null  float64 \n",
      " 16  PercentFunded            76224 non-null  float64 \n",
      "dtypes: bool(2), category(1), float64(8), int64(1), object(5)\n",
      "memory usage: 8.9+ MB\n"
     ]
    }
   ],
   "source": [
    "df.info()"
   ]
  },
  {
   "cell_type": "code",
   "execution_count": 50,
   "metadata": {
    "slideshow": {
     "slide_type": "slide"
    }
   },
   "outputs": [
    {
     "data": {
      "image/png": "[encoded data removed]",
      "text/plain": [
       "<Figure size 1008x576 with 1 Axes>"
      ]
     },
     "metadata": {
      "needs_background": "light"
     },
     "output_type": "display_data"
    }
   ],
   "source": [
    "plt.figure(figsize=[14, 8]);\n",
    "categoric_vars = ['EmploymentStatus', 'ProsperScore', 'IncomeRange'];\n",
    "\n",
    "sb.countplot(data = df, x = 'ProsperScore', hue = 'IncomeRange', palette = 'Reds');\n",
    "plt.title(\"Count of Prosper Score for different income ranges\");\n"
   ]
  },
  {
   "cell_type": "markdown",
   "metadata": {
    "slideshow": {
     "slide_type": "subslide"
    }
   },
   "source": [
    "- prosper score estimates the probability of a loan going “bad,” where “bad” is the probability of going 60+ days past due within the first twelve months from the date of loan origination. One is the worst, 11 the best score.\n",
    "\n",
    "- we can seee that \"Not employed\" practically never received an 11 (very good) which is not surprising. On the other hand, surprisingly a lot of people which a very high  income ($100000+) only received a 6 in their credit score. Also, a lot of people with a low income ($1-$24.999) got a credit score that is okay. This is most likely because the amount they loaned was rather low."
   ]
  },
  {
   "cell_type": "code",
   "execution_count": 51,
   "metadata": {
    "slideshow": {
     "slide_type": "slide"
    }
   },
   "outputs": [
    {
     "data": {
      "image/png": "[encoded data removed]",
      "text/plain": [
       "<Figure size 1008x576 with 1 Axes>"
      ]
     },
     "metadata": {
      "needs_background": "light"
     },
     "output_type": "display_data"
    }
   ],
   "source": [
    "plt.figure(figsize=[14, 8]);\n",
    "sb.countplot(data = df, x = 'ProsperScore', hue = 'EmploymentStatus', palette = 'Greens');\n",
    "plt.title(\"Count of Prosper Score for different Employment status\");"
   ]
  },
  {
   "cell_type": "markdown",
   "metadata": {
    "slideshow": {
     "slide_type": "subslide"
    }
   },
   "source": [
    "The graph shows that the number of employed people dominate in all credit scores. This is simply because most people in the dataset are employed. On score 11, it is interesting that visibly, only employed people got that score. Some self-employed earn a lot of money but there are very few them, hence, not visible in the graph."
   ]
  },
  {
   "cell_type": "markdown",
   "metadata": {
    "slideshow": {
     "slide_type": "slide"
    }
   },
   "source": [
    "# Conclusions\n",
    "\n",
    "* **EmploymentStatus** majority of people work full time\n",
    "* **IncomeRange**: 31% of people earn $50000-74999 dollars\n",
    "* **ProsperScore**: normal distribution\n",
    "\n",
    "* **StatedMonthlyIncome:**\t\n",
    " Monthly Income is right skewed: very few people be have a higher salary. Majority of the borrowers are having a salary with less than 10000 USD and, peak is observed at 5000 USD\n",
    "\n",
    "* **LoanOriginalAmount:** Right skewed with multiple peaks observed around 4000 USD, 10000 USD and 17000 USD.\n",
    "\n",
    "* **Investors:** Majority of the investors are between 0 and 100\n",
    "\n",
    "Columns which have a positive correlation are for example:\n",
    "\n",
    "- Borrower APR (annual percentage rate) & Borrower Rate have a positve correlation\n",
    "- Borrower APR & EstimatedEffectedYield have a positive correlation\n"
   ]
  },
  {
   "cell_type": "code",
   "execution_count": 1,
   "metadata": {
    "slideshow": {
     "slide_type": "skip"
    }
   },
   "outputs": [],
   "source": [
    "!jupyter nbconvert Explanatory_visualization_Slide_Deck.ipynb --to slides --post serve --no-input --no-prompt"
   ]
  },
  {
   "cell_type": "code",
   "execution_count": null,
   "metadata": {
    "slideshow": {
     "slide_type": "skip"
    }
   },
   "outputs": [],
   "source": []
  }
 ],
 "metadata": {
  "celltoolbar": "Slideshow",
  "kernelspec": {
   "display_name": "Python 3 (ipykernel)",
   "language": "python",
   "name": "python3"
  },
  "language_info": {
   "codemirror_mode": {
    "name": "ipython",
    "version": 3
   },
   "file_extension": ".py",
   "mimetype": "text/x-python",
   "name": "python",
   "nbconvert_exporter": "python",
   "pygments_lexer": "ipython3",
   "version": "3.8.9"
  },
  "toc": {
   "base_numbering": 1,
   "nav_menu": {},
   "number_sections": true,
   "sideBar": true,
   "skip_h1_title": false,
   "title_cell": "Table of Contents",
   "title_sidebar": "Contents",
   "toc_cell": false,
   "toc_position": {},
   "toc_section_display": true,
   "toc_window_display": false
  },
  "vscode": {
   "interpreter": {
    "hash": "708412f51d253a105920da076c8cedb189550c4fce148a749687797a03e7a6cb"
   }
  }
 },
 "nbformat": 4,
 "nbformat_minor": 2
}
