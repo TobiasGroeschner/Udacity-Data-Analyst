{
 "cells": [
  {
   "cell_type": "markdown",
   "metadata": {},
   "source": [
    "## WeRateDogs - Twitter Data"
   ]
  },
  {
   "cell_type": "markdown",
   "metadata": {},
   "source": [
    "### I. Gather Data"
   ]
  },
  {
   "cell_type": "markdown",
   "metadata": {},
   "source": [
    "Based on udacity instructions, I:\n",
    "\n",
    "- downloaded the data **twitter-archive-enhanced.csv**.\n",
    "- created my twitter developer account and tried to create a JSON file named **tweet_json.txt** by using the tweepy API.\n",
    "    - did not work, so I downloaded the data manually\n",
    "- downloaded the file image predictions file (tsv format).\n",
    "\n",
    "With all the data, I created three dataframes:\n",
    "\n",
    "- *archive_df* - dataset \"twitter-archive-enhanced.csv\" \n",
    "\n",
    "- *tweets_info_df* - dataset contains information like tweet_id, no of retweets and no of favorites etc.,\n",
    "\n",
    "- *image_predictions_df* - dataset contains information about predictions about the image.\n"
   ]
  },
  {
   "cell_type": "markdown",
   "metadata": {},
   "source": [
    "### II. Assesing the data"
   ]
  },
  {
   "cell_type": "markdown",
   "metadata": {},
   "source": [
    "\n",
    "Standard data exploring with pandas funcitions like.\n",
    "- df.info()\n",
    "- df.isnull().sum()\n",
    "- df[\"column\"].duplicated()\n",
    "- df[\"column\"].value_counts()\n",
    "- df[\"column\"].unique()\n",
    "- df[\"column\"].describe()\n",
    "- df.shape\n",
    "- etc.\n"
   ]
  },
  {
   "cell_type": "markdown",
   "metadata": {},
   "source": [
    "`Enhanced Twitter Archive`\n",
    "\n",
    "The WeRateDogs Twitter archive contains basic tweet data for all 5000+ of their tweets, but not everything. One column the archive does contain though: each tweet's text, which  used to extract rating, dog name, and dog \"stage\" (i.e. doggo, floofer, pupper, and puppo) to make this Twitter archive \"enhanced.\" Of the 5000+ tweets, we have filtered for tweets with ratings only (there are 2356).\n",
    "\n",
    "`archive_df` columns and their description:\n",
    "    \n",
    "- **tweet_id**: the unique identifier for each of the tweet\n",
    "- **in_reply_to_status_id**: the status id for the reply given to the tweet id\n",
    "- **in_reply_to_user_id**: the status id for the reply given to the tweet id ( w.r.t user id)\n",
    "- **timestamp**: Date and time the tweet was created, in Excel-friendly format.\n",
    "- **source**: the web link as source\n",
    "- **text**: the corresponding tweets text\n",
    "- **retweeted_status_id**: the status id for the reply given to the tweet id i.e., for the retweeted id\n",
    "- **retweeted_status_user_id**: the status id for the reply given to the tweet id ( w.r.t user id) i.e., for the retweeted id\n",
    "- **retweeted_status_timestamp**: Date and time the tweet was created, in Excel-friendly format.\n",
    "- **expanded_urls**: Expanded version of url1; URL entered by user and displayed in Twitter. Note that the user-entered URL may itself be a shortened URL, e.g. from bit.ly.\n",
    "- **rating_numerator**: the ranking given by the user\n",
    "- **rating_denominator**: The reference ranking given by the user \n",
    "- **name**: the breed or dog's name\n",
    "- **doggo**, **floofer**,  **pupper**, **puppo** -- The stage of the dog\n",
    "\n",
    "the link to the twitter data columns description can be found [here ](https://sfm.readthedocs.io/en/1.4.3/data_dictionary.html)"
   ]
  },
  {
   "cell_type": "markdown",
   "metadata": {},
   "source": [
    "#### `Quality - archive_df`\n",
    "\n",
    "#### `archive_df` table\n",
    "\n",
    "1. Missing values in columns:\n",
    "- in_reply_to_status_id \n",
    "- in_reply_to_user_id \n",
    "- retweeted_status_id\n",
    "- retweeted_status_user_id\n",
    "- retweeted_status_timestamp\n",
    "- expanded_urls\n",
    "2. 'rating_numerator' has incosistent values, e.g. 1776 as a max. 28 values are > 14 \n",
    "\n",
    "3. 'rating_denominator' has inconsistent values, denominator should always be 10.\n",
    "\n",
    "4. tweet id 835246439529840640 has a rating of denominator = 0\n",
    "\n",
    "5.  weird names found for dogs - \n",
    "- \"a\"\n",
    "- \"not\n",
    "- \"one\"\n",
    "- \"very\"\n",
    "- \"o\"\n",
    "- \"an\"\n",
    "- \"all\"\n",
    "- \"infuriating\"\n",
    "\n",
    "6. 'timestamp' should be a datetime object\n",
    "7. 'retweeted_status_timestamp' should be a datetime object\n",
    "\n",
    "8. Following columns should be integers or objects (strings) but definately not float:\n",
    "-  in_reply_to_status_id\n",
    "- in_reply_to_user_id\n",
    "- retweeted_status_id\n",
    "- retweeted_status_user_id\n",
    "\n",
    "\n",
    "9. For missing values, the columns  'doggo', 'floofer', 'pupper', 'puppo' show None instead of NaN\n",
    "\n",
    "\n",
    "\n",
    "  The link to the twitter data columns description can be found [here](https://sfm.readthedocs.io/en/1.4.3/data_dictionary.html)\n",
    "  \n",
    "  \n",
    "\n",
    "  \n",
    "\n",
    "\n",
    "  "
   ]
  },
  {
   "cell_type": "markdown",
   "metadata": {},
   "source": [
    "#### `Tweets_info_df`\n",
    "\n",
    "`Tweets_info_df` columns and their description:\n",
    "\n",
    "- **tweet_id**: The unique identifier for each of the tweet\n",
    "- **retweets**: The count of retweets done by user\n",
    "- **favorites**: The count of favorites done by user\n",
    "- **followers**: The count of number of followers\n",
    "- **friends**: The count of number of friends\n",
    "\n",
    "#### `Quality - tweets_info_df` table\n",
    "\n",
    "- 14 tweet ids information is Missing \n",
    "\n",
    "#### `tweets_info_df` table\n",
    "\n",
    "- looked pretty okay to me\n",
    "\n",
    "#### Tidiness - `tweets_info_df`\n",
    "\n",
    "- Retweets and Favorites has to be joined to the archive_df table since all tweet information is found within archive_df "
   ]
  },
  {
   "cell_type": "markdown",
   "metadata": {},
   "source": [
    "#### `Quality - image_predictions_df dataset:`\n",
    "\n",
    "WeRateDogs Twitter archive ran through a neural network that classifies breeds of dogs. The results: a table full of image predictions (the top three only) alongside each tweet ID, image URL, and the image number that corresponded to the most confident prediction (numbered 1 to 4 since tweets can have up to four images).\n",
    "\n",
    "`image_predictions_df` columns:\n",
    "    \n",
    "- **tweet_id**: tweet_id is the last part of the tweet URL after \"status/\"\n",
    "- **jpg_url**: Image link or URL\n",
    "- **img_num**: Image number\n",
    "- **p1**: p1 is the algorithm's #1 prediction for the image in the tweet \n",
    "- **p1_conf**: p1_conf is how confident the algorithm is in its #1 prediction\n",
    "- **p1_dog**: p1_dog is whether or not the #1 prediction is a breed of dog\n",
    "- **p2**: is the algorithm's second most likely prediction\n",
    "- **p2_conf**: is how confident the algorithm is in its #2 prediction\n",
    "- **p2_dog**:  is whether or not the #2 prediction is a breed of dog \n",
    "- **p3**: p3 is the algorithm's #3 prediction for the image in the tweet\n",
    "- **p3_conf**: p3_conf is how confident the algorithm is in its #3 prediction\n",
    "- **p3_dog**: p3_dog is whether or not the #3 prediction is a breed of dog\n",
    "\n"
   ]
  },
  {
   "cell_type": "markdown",
   "metadata": {},
   "source": [
    "### III. Cleaning"
   ]
  },
  {
   "cell_type": "markdown",
   "metadata": {},
   "source": [
    "These steps were followed to clean the dataframe:\n",
    "\n",
    "\n",
    "* Convert datatype of \"tweet_id\" into string\n",
    "\n",
    "* Create a universe dataset joining all the dataframes based on the tweet_id\n",
    "\n",
    "* Convert the dog stage or category into one column instead of the multiple columns\n",
    "\n",
    "This caused dupliacted rows which were removed\n",
    "\n",
    "\n",
    "* Converted columns stringin_reply_to_status_id, in_reply_to_user_id, retweeted_status_id , retweeted_status_user_id to strings\n",
    "\n",
    "*  Convert retweeted_status_timestamp into datetime object\n",
    "    \n",
    "* Unusual names for dogs - 'infuriating', 'just', 'life', 'light', 'mad', 'my' were changed to \"No_name\"\n",
    "    \n",
    "* retweeted_status_timestamp - had the null values which were dropped\n",
    "    \n",
    "\n",
    "\n",
    "\n",
    "\n"
   ]
  },
  {
   "cell_type": "markdown",
   "metadata": {},
   "source": [
    "### IV. Store"
   ]
  },
  {
   "cell_type": "markdown",
   "metadata": {},
   "source": [
    "I stored the final dataframe into csv file with name **twitter_archive_master.csv** with final data of 2055 rows and 28 columns"
   ]
  },
  {
   "cell_type": "markdown",
   "metadata": {},
   "source": []
  }
 ],
 "metadata": {
  "kernelspec": {
   "display_name": "Python 3.8.9 ('venv_udacity': venv)",
   "language": "python",
   "name": "python3"
  },
  "language_info": {
   "codemirror_mode": {
    "name": "ipython",
    "version": 3
   },
   "file_extension": ".py",
   "mimetype": "text/x-python",
   "name": "python",
   "nbconvert_exporter": "python",
   "pygments_lexer": "ipython3",
   "version": "3.8.9"
  },
  "vscode": {
   "interpreter": {
    "hash": "708412f51d253a105920da076c8cedb189550c4fce148a749687797a03e7a6cb"
   }
  }
 },
 "nbformat": 4,
 "nbformat_minor": 2
}
